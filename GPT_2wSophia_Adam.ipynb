{
  "cells": [
    {
      "cell_type": "markdown",
      "source": [
        "### 1. Mount Google Colab with external storage (Google Drive in this case)."
      ],
      "metadata": {
        "id": "xxHow6Xp4F2J"
      }
    },
    {
      "cell_type": "code",
      "execution_count": null,
      "metadata": {
        "id": "rY0_MFwGnUt-"
      },
      "outputs": [],
      "source": [
        "from google.colab import drive\n",
        "drive.mount('/content/gdrive')"
      ]
    },
    {
      "cell_type": "markdown",
      "source": [
        "\n",
        "### 2. Clone GitHub repository\n",
        "\n",
        "We will be using the official implementation of the Sophia-G optimizer from the paper available at https://arxiv.org/abs/2305.14342 and the GPT-2 training scripts from the repository https://github.com/Liuhong99/Sophia. We need to clone their GitHub repository into your Google Drive.\n",
        "\n",
        " A big thank you to Liu Hong, Li Zhiyuan, Hall David, Liang Percy, and Ma Tengyu for their hard work on this project!\n"
      ],
      "metadata": {
        "id": "GEMrw0S38cw3"
      }
    },
    {
      "cell_type": "code",
      "source": [
        "!git clone https://github.com/Liuhong99/Sophia"
      ],
      "metadata": {
        "id": "hBp2HrJP5VWa"
      },
      "execution_count": null,
      "outputs": []
    },
    {
      "cell_type": "code",
      "execution_count": null,
      "metadata": {
        "id": "433a0T7Gnmm3"
      },
      "outputs": [],
      "source": [
        "%cd <your_path>/Sophia"
      ]
    },
    {
      "cell_type": "markdown",
      "source": [
        "\n",
        "### 3. Install the required libraries."
      ],
      "metadata": {
        "id": "2hSstxVf9JHL"
      }
    },
    {
      "cell_type": "code",
      "execution_count": null,
      "metadata": {
        "id": "itGYQ-Ltn6ld"
      },
      "outputs": [],
      "source": [
        "!pip install torch torchvision torchaudio\n",
        "!pip install transformers\n",
        "!pip install datasets\n",
        "!pip install tiktoken\n",
        "!pip install wandb"
      ]
    },
    {
      "cell_type": "markdown",
      "source": [
        "###4. Download and tokenize the OpenWebText dataset.\n",
        "\n",
        "If the tokenization process takes a significant amount of time, you can download pre-tokenized datasets from the following link: https://drive.google.com/drive/folders/1-hUTokBt_Y0tN3wTMWpe1g4FVK1QoB0c?usp=sharing."
      ],
      "metadata": {
        "id": "CauKurha93_4"
      }
    },
    {
      "cell_type": "code",
      "execution_count": null,
      "metadata": {
        "id": "cmufNLxzoCWL"
      },
      "outputs": [],
      "source": [
        "!python data/openwebtext/prepare.py"
      ]
    },
    {
      "cell_type": "markdown",
      "source": [
        "### 5. Start training the GPT-2 model using the **Sophia** optimizer.\n",
        "\n",
        "1. Using a larger batch size may result in a \"Cuda out of memory\" error on Google Colab.\n",
        "\n",
        "2. At the `train_sophiag.py` file, please be aware that setting `dtype = 'bfloat16'` could lead to an error on Google Colab. To mitigate this, you can try using `dtype = 'float32'` instead."
      ],
      "metadata": {
        "id": "hN2FKgte-AMO"
      }
    },
    {
      "cell_type": "code",
      "execution_count": null,
      "metadata": {
        "id": "cK0xu4kDNIEY"
      },
      "outputs": [],
      "source": [
        "!torchrun --standalone --nproc_per_node=1 train_sophiag.py config/train_gpt2_small_sophiag.py --batch_size=2 --gradient_accumulation_steps=8"
      ]
    },
    {
      "cell_type": "markdown",
      "source": [
        "### 6. Start training the GPT-2 model using the **Adam** optimizer.\n",
        "\n",
        "1. Using a larger batch size may result in a \"Cuda out of memory\" error on Google Colab.\n",
        "\n",
        "2. At the `train_adam.py` file, please be aware that setting `dtype = 'bfloat16'` could lead to an error on Google Colab. To mitigate this, you can try using `dtype = 'float32'` instead."
      ],
      "metadata": {
        "id": "12iApLPW-K19"
      }
    },
    {
      "cell_type": "code",
      "execution_count": null,
      "metadata": {
        "id": "4LtUuJnvY1j-"
      },
      "outputs": [],
      "source": [
        "!torchrun --standalone --nproc_per_node=1 train_adam.py config/train_gpt2_small_adam.py --batch_size=2 --gradient_accumulation_steps=8"
      ]
    },
    {
      "cell_type": "markdown",
      "source": [
        "### Reference Result\n",
        "You can find the reference result for the trained GPT-2 model with Sophia and Adam optimizer at the following link: https://api.wandb.ai/links/ilovedorayaki1998/sb5hhjbb.\n",
        "\n",
        "Please note that this link leads to an external website, and its availability or content may be subject to change."
      ],
      "metadata": {
        "id": "t5MUReUaDOej"
      }
    }
  ],
  "metadata": {
    "accelerator": "GPU",
    "colab": {
      "machine_shape": "hm",
      "provenance": []
    },
    "kernelspec": {
      "display_name": "Python 3",
      "name": "python3"
    },
    "language_info": {
      "name": "python"
    }
  },
  "nbformat": 4,
  "nbformat_minor": 0
}